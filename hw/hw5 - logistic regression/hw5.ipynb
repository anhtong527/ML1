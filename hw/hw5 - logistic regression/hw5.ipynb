{
  "nbformat": 4,
  "nbformat_minor": 0,
  "metadata": {
    "colab": {
      "provenance": []
    },
    "kernelspec": {
      "name": "python3",
      "display_name": "Python 3"
    },
    "language_info": {
      "name": "python"
    },
    "accelerator": "GPU"
  },
  "cells": [
    {
      "cell_type": "code",
      "execution_count": 2,
      "metadata": {
        "id": "Rp6eqvWdNS5m"
      },
      "outputs": [],
      "source": [
        "import numpy as np\n",
        "import pandas as pd\n",
        "import matplotlib.pyplot as plt"
      ]
    },
    {
      "cell_type": "code",
      "source": [
        "class LogisticRegression:\n",
        "    def __init__(self, eps=1e-2, lrate=0.01, w_0=None):\n",
        "        \"\"\"\n",
        "        eps: threshold for determining convergence\n",
        "        lrate: learning rate for iteration\n",
        "        w_0: initial guess for w\n",
        "        \"\"\"\n",
        "        self.w = w_0\n",
        "        self.eps = eps\n",
        "        self.lrate = lrate\n",
        "    \n",
        "    def sigmoid(self, x):\n",
        "        return 1 / (1 + np.exp(-x))\n",
        "\n",
        "    def fit(self, x, y):\n",
        "        \"\"\"\n",
        "        x: training example inputs (n_examples, dim)\n",
        "        y: training example labels (n_examples,)\n",
        "        \"\"\"\n",
        "        x = np.hstack((np.ones((x.shape[0], 1)), x))\n",
        "        m, n = x.shape\n",
        "        self.w = np.array([0.,0.1,0.1]).reshape(-1, 1)\n",
        "\n",
        "        while True:\n",
        "            y_hat = self.sigmoid(np.dot(x, self.w))\n",
        "            cost = - np.sum(np.multiply(y, np.log(y_hat)) + np.multiply(1 - y, np.log(1 - y_hat)))\n",
        "\n",
        "            self.w -= self.lrate * np.dot(x.T, y_hat - y)\n",
        "            if cost < self.eps:\n",
        "                break\n",
        "        \n",
        "    def predict(self, x):\n",
        "        \"\"\"Return predicted probabilities given new inputs x.\n",
        "        x: Inputs of shape (n_examples, dim).\n",
        "        Returns:\n",
        "            Outputs of shape (n_examples,).\n",
        "        \"\"\"\n",
        "        x = np.hstack((np.ones((x.shape[0], 1)), x))\n",
        "        return self.sigmoid(-x.dot(self.w))\n",
        "\n",
        "    def coef(self):\n",
        "        return self.w"
      ],
      "metadata": {
        "id": "GYcVLuTT3auB"
      },
      "execution_count": 73,
      "outputs": []
    },
    {
      "cell_type": "code",
      "source": [
        "data = pd.read_csv('dataset.csv')\n",
        "data.head()"
      ],
      "metadata": {
        "colab": {
          "base_uri": "https://localhost:8080/",
          "height": 206
        },
        "id": "ZzbQx1sR-XfF",
        "outputId": "dac9a8bd-c6cb-48ff-98d2-c1c24e2ccd59"
      },
      "execution_count": 60,
      "outputs": [
        {
          "output_type": "execute_result",
          "data": {
            "text/plain": [
              "   Lương  Thời gian làm việc  Cho vay\n",
              "0     10                 1.0        1\n",
              "1      5                 2.0        1\n",
              "2      6                 1.8        1\n",
              "3      7                 1.0        1\n",
              "4      8                 2.0        1"
            ],
            "text/html": [
              "\n",
              "  <div id=\"df-2b4987c7-6315-47f1-8da5-8c6c45a1b3c1\">\n",
              "    <div class=\"colab-df-container\">\n",
              "      <div>\n",
              "<style scoped>\n",
              "    .dataframe tbody tr th:only-of-type {\n",
              "        vertical-align: middle;\n",
              "    }\n",
              "\n",
              "    .dataframe tbody tr th {\n",
              "        vertical-align: top;\n",
              "    }\n",
              "\n",
              "    .dataframe thead th {\n",
              "        text-align: right;\n",
              "    }\n",
              "</style>\n",
              "<table border=\"1\" class=\"dataframe\">\n",
              "  <thead>\n",
              "    <tr style=\"text-align: right;\">\n",
              "      <th></th>\n",
              "      <th>Lương</th>\n",
              "      <th>Thời gian làm việc</th>\n",
              "      <th>Cho vay</th>\n",
              "    </tr>\n",
              "  </thead>\n",
              "  <tbody>\n",
              "    <tr>\n",
              "      <th>0</th>\n",
              "      <td>10</td>\n",
              "      <td>1.0</td>\n",
              "      <td>1</td>\n",
              "    </tr>\n",
              "    <tr>\n",
              "      <th>1</th>\n",
              "      <td>5</td>\n",
              "      <td>2.0</td>\n",
              "      <td>1</td>\n",
              "    </tr>\n",
              "    <tr>\n",
              "      <th>2</th>\n",
              "      <td>6</td>\n",
              "      <td>1.8</td>\n",
              "      <td>1</td>\n",
              "    </tr>\n",
              "    <tr>\n",
              "      <th>3</th>\n",
              "      <td>7</td>\n",
              "      <td>1.0</td>\n",
              "      <td>1</td>\n",
              "    </tr>\n",
              "    <tr>\n",
              "      <th>4</th>\n",
              "      <td>8</td>\n",
              "      <td>2.0</td>\n",
              "      <td>1</td>\n",
              "    </tr>\n",
              "  </tbody>\n",
              "</table>\n",
              "</div>\n",
              "      <button class=\"colab-df-convert\" onclick=\"convertToInteractive('df-2b4987c7-6315-47f1-8da5-8c6c45a1b3c1')\"\n",
              "              title=\"Convert this dataframe to an interactive table.\"\n",
              "              style=\"display:none;\">\n",
              "        \n",
              "  <svg xmlns=\"http://www.w3.org/2000/svg\" height=\"24px\"viewBox=\"0 0 24 24\"\n",
              "       width=\"24px\">\n",
              "    <path d=\"M0 0h24v24H0V0z\" fill=\"none\"/>\n",
              "    <path d=\"M18.56 5.44l.94 2.06.94-2.06 2.06-.94-2.06-.94-.94-2.06-.94 2.06-2.06.94zm-11 1L8.5 8.5l.94-2.06 2.06-.94-2.06-.94L8.5 2.5l-.94 2.06-2.06.94zm10 10l.94 2.06.94-2.06 2.06-.94-2.06-.94-.94-2.06-.94 2.06-2.06.94z\"/><path d=\"M17.41 7.96l-1.37-1.37c-.4-.4-.92-.59-1.43-.59-.52 0-1.04.2-1.43.59L10.3 9.45l-7.72 7.72c-.78.78-.78 2.05 0 2.83L4 21.41c.39.39.9.59 1.41.59.51 0 1.02-.2 1.41-.59l7.78-7.78 2.81-2.81c.8-.78.8-2.07 0-2.86zM5.41 20L4 18.59l7.72-7.72 1.47 1.35L5.41 20z\"/>\n",
              "  </svg>\n",
              "      </button>\n",
              "      \n",
              "  <style>\n",
              "    .colab-df-container {\n",
              "      display:flex;\n",
              "      flex-wrap:wrap;\n",
              "      gap: 12px;\n",
              "    }\n",
              "\n",
              "    .colab-df-convert {\n",
              "      background-color: #E8F0FE;\n",
              "      border: none;\n",
              "      border-radius: 50%;\n",
              "      cursor: pointer;\n",
              "      display: none;\n",
              "      fill: #1967D2;\n",
              "      height: 32px;\n",
              "      padding: 0 0 0 0;\n",
              "      width: 32px;\n",
              "    }\n",
              "\n",
              "    .colab-df-convert:hover {\n",
              "      background-color: #E2EBFA;\n",
              "      box-shadow: 0px 1px 2px rgba(60, 64, 67, 0.3), 0px 1px 3px 1px rgba(60, 64, 67, 0.15);\n",
              "      fill: #174EA6;\n",
              "    }\n",
              "\n",
              "    [theme=dark] .colab-df-convert {\n",
              "      background-color: #3B4455;\n",
              "      fill: #D2E3FC;\n",
              "    }\n",
              "\n",
              "    [theme=dark] .colab-df-convert:hover {\n",
              "      background-color: #434B5C;\n",
              "      box-shadow: 0px 1px 3px 1px rgba(0, 0, 0, 0.15);\n",
              "      filter: drop-shadow(0px 1px 2px rgba(0, 0, 0, 0.3));\n",
              "      fill: #FFFFFF;\n",
              "    }\n",
              "  </style>\n",
              "\n",
              "      <script>\n",
              "        const buttonEl =\n",
              "          document.querySelector('#df-2b4987c7-6315-47f1-8da5-8c6c45a1b3c1 button.colab-df-convert');\n",
              "        buttonEl.style.display =\n",
              "          google.colab.kernel.accessAllowed ? 'block' : 'none';\n",
              "\n",
              "        async function convertToInteractive(key) {\n",
              "          const element = document.querySelector('#df-2b4987c7-6315-47f1-8da5-8c6c45a1b3c1');\n",
              "          const dataTable =\n",
              "            await google.colab.kernel.invokeFunction('convertToInteractive',\n",
              "                                                     [key], {});\n",
              "          if (!dataTable) return;\n",
              "\n",
              "          const docLinkHtml = 'Like what you see? Visit the ' +\n",
              "            '<a target=\"_blank\" href=https://colab.research.google.com/notebooks/data_table.ipynb>data table notebook</a>'\n",
              "            + ' to learn more about interactive tables.';\n",
              "          element.innerHTML = '';\n",
              "          dataTable['output_type'] = 'display_data';\n",
              "          await google.colab.output.renderOutput(dataTable, element);\n",
              "          const docLink = document.createElement('div');\n",
              "          docLink.innerHTML = docLinkHtml;\n",
              "          element.appendChild(docLink);\n",
              "        }\n",
              "      </script>\n",
              "    </div>\n",
              "  </div>\n",
              "  "
            ]
          },
          "metadata": {},
          "execution_count": 60
        }
      ]
    },
    {
      "cell_type": "code",
      "source": [
        "data = data.values\n",
        "dim = data.shape[1]\n",
        "x = data[:, :dim-1].reshape(-1, dim-1)\n",
        "y = data[:, 2].reshape(-1, 1)"
      ],
      "metadata": {
        "id": "rXZZR_Ip-fTb"
      },
      "execution_count": 61,
      "outputs": []
    },
    {
      "cell_type": "code",
      "source": [
        "# scatter data\n",
        "x_yes = x[y[:, 0]==1]\n",
        "x_no = x[y[:, 0]==0]\n",
        "\n",
        "plt.scatter(x_yes[:, 0], x_yes[:, 1], c='blue', s=20, label='cho vay')\n",
        "plt.scatter(x_no[:, 0], x_no[:, 1], c='green', s=20, label='từ chối')\n",
        "plt.legend()\n",
        "plt.xlabel('mức lương (triệu)')\n",
        "plt.ylabel('kinh nghiệm (năm)')"
      ],
      "metadata": {
        "colab": {
          "base_uri": "https://localhost:8080/",
          "height": 298
        },
        "id": "SFEJ-ZJG_gFR",
        "outputId": "19a29357-8578-4408-bee7-6de41d202ba5"
      },
      "execution_count": 62,
      "outputs": [
        {
          "output_type": "execute_result",
          "data": {
            "text/plain": [
              "Text(0, 0.5, 'kinh nghiệm (năm)')"
            ]
          },
          "metadata": {},
          "execution_count": 62
        },
        {
          "output_type": "display_data",
          "data": {
            "text/plain": [
              "<Figure size 432x288 with 1 Axes>"
            ],
            "image/png": "[encoded data removed]"
          },
          "metadata": {
            "needs_background": "light"
          }
        }
      ]
    },
    {
      "cell_type": "code",
      "source": [
        "model = LogisticRegression(eps=1e-1)\n",
        "model.fit(x, y)"
      ],
      "metadata": {
        "colab": {
          "base_uri": "https://localhost:8080/"
        },
        "id": "p85Uxyn2_1-2",
        "outputId": "e1781538-f74b-4b49-d33b-cb50e2bd6733"
      },
      "execution_count": 74,
      "outputs": [
        {
          "output_type": "stream",
          "name": "stdout",
          "text": [
            "0.09999946407024021 56641\n"
          ]
        }
      ]
    },
    {
      "cell_type": "code",
      "source": [
        "# scatter data\n",
        "x_yes = x[y[:, 0]==1]\n",
        "x_no = x[y[:, 0]==0]\n",
        "\n",
        "plt.scatter(x_yes[:, 0], x_yes[:, 1], c='blue', s=20, label='cho vay')\n",
        "plt.scatter(x_no[:, 0], x_no[:, 1], c='green', s=20, label='từ chối')\n",
        "plt.legend()\n",
        "plt.xlabel('mức lương (triệu)')\n",
        "plt.ylabel('kinh nghiệm (năm)')\n",
        "\n",
        "# plt boundary with threshold = .5\n",
        "t = 0.5\n",
        "w = model.coef()\n",
        "x_range = (x[:,0].min(), x[:,0].max())\n",
        "y_range = (-(w[0] + x_range[0]*w[1]+ np.log(1/t-1))/w[2], -(w[0] + x_range[1]*w[1]+ np.log(1/t-1))/w[2])\n",
        "\n",
        "plt.plot(x_range, y_range, 'red')"
      ],
      "metadata": {
        "colab": {
          "base_uri": "https://localhost:8080/",
          "height": 298
        },
        "id": "1P-98P5tHhIN",
        "outputId": "85f95647-7c3b-4f10-ba65-05089d802adf"
      },
      "execution_count": 75,
      "outputs": [
        {
          "output_type": "execute_result",
          "data": {
            "text/plain": [
              "[<matplotlib.lines.Line2D at 0x7f964e7e71d0>]"
            ]
          },
          "metadata": {},
          "execution_count": 75
        },
        {
          "output_type": "display_data",
          "data": {
            "text/plain": [
              "<Figure size 432x288 with 1 Axes>"
            ],
            "image/png": "[encoded data removed]"
          },
          "metadata": {
            "needs_background": "light"
          }
        }
      ]
    },
    {
      "cell_type": "code",
      "source": [],
      "metadata": {
        "id": "zIvSr6IyKWCV"
      },
      "execution_count": 65,
      "outputs": []
    }
  ]
}